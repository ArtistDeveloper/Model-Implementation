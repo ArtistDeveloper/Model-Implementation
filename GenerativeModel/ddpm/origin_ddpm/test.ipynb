{
 "cells": [
  {
   "cell_type": "code",
   "execution_count": 1,
   "metadata": {},
   "outputs": [
    {
     "name": "stderr",
     "output_type": "stream",
     "text": [
      "/opt/conda/lib/python3.9/site-packages/tqdm/auto.py:22: TqdmWarning: IProgress not found. Please update jupyter and ipywidgets. See https://ipywidgets.readthedocs.io/en/stable/user_install.html\n",
      "  from .autonotebook import tqdm as notebook_tqdm\n"
     ]
    }
   ],
   "source": [
    "import torch\n",
    "import torch.nn as nn\n",
    "\n",
    "class UNet(nn.Module):\n",
    "    def __init__(self):\n",
    "        super().__init__()\n",
    "        \n",
    "        self.init_conv = nn.Conv2d(1, 256, 1, padding=0)\n",
    "        \n",
    "    def forward(self, x):\n",
    "        out = self.init_conv(x)\n",
    "        return out"
   ]
  },
  {
   "cell_type": "code",
   "execution_count": 2,
   "metadata": {},
   "outputs": [
    {
     "name": "stdout",
     "output_type": "stream",
     "text": [
      "torch.Size([256, 256, 256])\n"
     ]
    }
   ],
   "source": [
    "unet = UNet()\n",
    "\n",
    "test = torch.randn(1, 256, 256)\n",
    "result = unet(test)\n",
    "\n",
    "print(result.shape)"
   ]
  },
  {
   "cell_type": "code",
   "execution_count": 3,
   "metadata": {},
   "outputs": [],
   "source": [
    "dim_mults = (1, 2, 4)\n",
    "dims = [256, *map(lambda m: 256 * m, dim_mults)]"
   ]
  },
  {
   "cell_type": "code",
   "execution_count": 4,
   "metadata": {},
   "outputs": [
    {
     "name": "stdout",
     "output_type": "stream",
     "text": [
      "[(256, 256), (256, 512), (512, 1024)]\n"
     ]
    }
   ],
   "source": [
    "in_out = list(zip(dims[:-1], dims[1:]))\n",
    "print(in_out)"
   ]
  },
  {
   "cell_type": "code",
   "execution_count": 5,
   "metadata": {},
   "outputs": [
    {
     "name": "stdout",
     "output_type": "stream",
     "text": [
      "tensor([983, 394, 220, 378])\n"
     ]
    }
   ],
   "source": [
    "TIMESTEP = 1000\n",
    "batch_size = 4\n",
    "t = torch.randint(0, TIMESTEP, (batch_size,)).long()    \n",
    "print(t)"
   ]
  },
  {
   "cell_type": "code",
   "execution_count": 6,
   "metadata": {},
   "outputs": [
    {
     "name": "stdout",
     "output_type": "stream",
     "text": [
      "torch.Size([128, 20])\n",
      "tensor([[ 0.9044, -0.8494, -0.4632,  ...,  1.4992,  0.0891,  1.0323],\n",
      "        [ 0.9041, -0.4717,  1.0163,  ...,  0.7412, -1.3716, -0.3130],\n",
      "        [ 2.4795, -0.3741,  0.3613,  ...,  0.3731,  0.3312,  0.2139],\n",
      "        ...,\n",
      "        [-0.7974, -0.0933,  0.3821,  ..., -0.1604, -0.4416, -1.1277],\n",
      "        [ 0.4832, -0.4118, -0.7638,  ..., -1.4519,  0.4888, -1.4854],\n",
      "        [ 2.8029, -0.9059,  2.3978,  ...,  1.5017, -0.2909,  0.0089]])\n",
      "tensor([[ 0.9044, -0.8494, -0.4632,  ...,  1.4992,  0.0891,  1.0323],\n",
      "        [ 0.9041, -0.4717,  1.0163,  ...,  0.7412, -1.3716, -0.3130],\n",
      "        [ 2.4795, -0.3741,  0.3613,  ...,  0.3731,  0.3312,  0.2139],\n",
      "        ...,\n",
      "        [-0.7974, -0.0933,  0.3821,  ..., -0.1604, -0.4416, -1.1277],\n",
      "        [ 0.4832, -0.4118, -0.7638,  ..., -1.4519,  0.4888, -1.4854],\n",
      "        [ 2.8029, -0.9059,  2.3978,  ...,  1.5017, -0.2909,  0.0089]])\n"
     ]
    }
   ],
   "source": [
    "m = nn.Identity(54, unused_argument1=0.1, unused_argument2=False)\n",
    "input = torch.randn(128, 20)\n",
    "output = m(input)\n",
    "\n",
    "print(output.size())\n",
    "print(input)\n",
    "print(output)\n"
   ]
  },
  {
   "cell_type": "code",
   "execution_count": 42,
   "metadata": {},
   "outputs": [
    {
     "name": "stdout",
     "output_type": "stream",
     "text": [
      "tensor([1.0000e+00, 9.3004e-01, 8.6498e-01, 8.0447e-01, 7.4820e-01, 6.9586e-01,\n",
      "        6.4718e-01, 6.0190e-01, 5.5980e-01, 5.2064e-01, 4.8422e-01, 4.5034e-01,\n",
      "        4.1884e-01, 3.8954e-01, 3.6229e-01, 3.3695e-01, 3.1337e-01, 2.9145e-01,\n",
      "        2.7106e-01, 2.5210e-01, 2.3447e-01, 2.1806e-01, 2.0281e-01, 1.8862e-01,\n",
      "        1.7543e-01, 1.6315e-01, 1.5174e-01, 1.4113e-01, 1.3125e-01, 1.2207e-01,\n",
      "        1.1353e-01, 1.0559e-01, 9.8203e-02, 9.1333e-02, 8.4944e-02, 7.9002e-02,\n",
      "        7.3475e-02, 6.8335e-02, 6.3555e-02, 5.9109e-02, 5.4974e-02, 5.1128e-02,\n",
      "        4.7552e-02, 4.4225e-02, 4.1131e-02, 3.8254e-02, 3.5578e-02, 3.3089e-02,\n",
      "        3.0774e-02, 2.8622e-02, 2.6619e-02, 2.4757e-02, 2.3025e-02, 2.1415e-02,\n",
      "        1.9916e-02, 1.8523e-02, 1.7227e-02, 1.6022e-02, 1.4901e-02, 1.3859e-02,\n",
      "        1.2890e-02, 1.1988e-02, 1.1149e-02, 1.0369e-02, 9.6439e-03, 8.9692e-03,\n",
      "        8.3418e-03, 7.7583e-03, 7.2155e-03, 6.7108e-03, 6.2413e-03, 5.8047e-03,\n",
      "        5.3986e-03, 5.0210e-03, 4.6697e-03, 4.3431e-03, 4.0392e-03, 3.7567e-03,\n",
      "        3.4939e-03, 3.2495e-03, 3.0221e-03, 2.8107e-03, 2.6141e-03, 2.4312e-03,\n",
      "        2.2612e-03, 2.1030e-03, 1.9559e-03, 1.8190e-03, 1.6918e-03, 1.5734e-03,\n",
      "        1.4634e-03, 1.3610e-03, 1.2658e-03, 1.1772e-03, 1.0949e-03, 1.0183e-03,\n",
      "        9.4706e-04, 8.8081e-04, 8.1919e-04, 7.6189e-04, 7.0859e-04, 6.5902e-04,\n",
      "        6.1292e-04, 5.7004e-04, 5.3016e-04, 4.9308e-04, 4.5858e-04, 4.2650e-04,\n",
      "        3.9667e-04, 3.6892e-04, 3.4311e-04, 3.1911e-04, 2.9678e-04, 2.7602e-04,\n",
      "        2.5671e-04, 2.3876e-04, 2.2205e-04, 2.0652e-04, 1.9207e-04, 1.7864e-04,\n",
      "        1.6614e-04, 1.5452e-04, 1.4371e-04, 1.3365e-04, 1.2430e-04, 1.1561e-04,\n",
      "        1.0752e-04, 1.0000e-04])\n"
     ]
    }
   ],
   "source": [
    "import math\n",
    "\n",
    "dim = 256\n",
    "half_dim = dim // 2\n",
    "embeddings = math.log(10000) / (half_dim - 1) \n",
    "embeddings = torch.exp(torch.arange(half_dim) * -embeddings)\n",
    "embeddings = time[:, None]\n",
    "print(embeddings)"
   ]
  },
  {
   "cell_type": "code",
   "execution_count": 44,
   "metadata": {},
   "outputs": [
    {
     "data": {
      "text/plain": [
       "0.93004"
      ]
     },
     "execution_count": 44,
     "metadata": {},
     "output_type": "execute_result"
    }
   ],
   "source": [
    "9.3004e-01"
   ]
  },
  {
   "cell_type": "code",
   "execution_count": 46,
   "metadata": {},
   "outputs": [
    {
     "data": {
      "text/plain": [
       "0.86498"
      ]
     },
     "execution_count": 46,
     "metadata": {},
     "output_type": "execute_result"
    }
   ],
   "source": [
    "8.6498e-01"
   ]
  },
  {
   "cell_type": "code",
   "execution_count": 47,
   "metadata": {},
   "outputs": [
    {
     "data": {
      "text/plain": [
       "0.0001"
      ]
     },
     "execution_count": 47,
     "metadata": {},
     "output_type": "execute_result"
    }
   ],
   "source": [
    "1.0000e-04"
   ]
  }
 ],
 "metadata": {
  "kernelspec": {
   "display_name": "base",
   "language": "python",
   "name": "python3"
  },
  "language_info": {
   "codemirror_mode": {
    "name": "ipython",
    "version": 3
   },
   "file_extension": ".py",
   "mimetype": "text/x-python",
   "name": "python",
   "nbconvert_exporter": "python",
   "pygments_lexer": "ipython3",
   "version": "3.9.12"
  }
 },
 "nbformat": 4,
 "nbformat_minor": 2
}
