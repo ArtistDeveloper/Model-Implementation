{
 "cells": [
  {
   "cell_type": "code",
   "execution_count": 3,
   "metadata": {},
   "outputs": [
    {
     "name": "stderr",
     "output_type": "stream",
     "text": [
      "/opt/conda/lib/python3.9/site-packages/tqdm/auto.py:22: TqdmWarning: IProgress not found. Please update jupyter and ipywidgets. See https://ipywidgets.readthedocs.io/en/stable/user_install.html\n",
      "  from .autonotebook import tqdm as notebook_tqdm\n"
     ]
    }
   ],
   "source": [
    "import torch\n",
    "import torch.nn as nn\n",
    "\n",
    "class UNet(nn.Module):\n",
    "    def __init__(self):\n",
    "        super().__init__()\n",
    "        \n",
    "        self.init_conv = nn.Conv2d(1, 256, 1, padding=0)\n",
    "        \n",
    "    def forward(self, x):\n",
    "        out = self.init_conv(x)\n",
    "        return out"
   ]
  },
  {
   "cell_type": "code",
   "execution_count": 4,
   "metadata": {},
   "outputs": [
    {
     "name": "stdout",
     "output_type": "stream",
     "text": [
      "torch.Size([256, 256, 256])\n"
     ]
    }
   ],
   "source": [
    "unet = UNet()\n",
    "\n",
    "test = torch.randn(1, 256, 256)\n",
    "result = unet(test)\n",
    "\n",
    "print(result.shape)"
   ]
  },
  {
   "cell_type": "code",
   "execution_count": 5,
   "metadata": {},
   "outputs": [],
   "source": [
    "dim_mults = (1, 2, 4)\n",
    "dims = [256, *map(lambda m: 256 * m, dim_mults)]"
   ]
  },
  {
   "cell_type": "code",
   "execution_count": 6,
   "metadata": {},
   "outputs": [
    {
     "name": "stdout",
     "output_type": "stream",
     "text": [
      "[(256, 256), (256, 512), (512, 1024)]\n"
     ]
    }
   ],
   "source": [
    "in_out = list(zip(dims[:-1], dims[1:]))\n",
    "print(in_out)"
   ]
  },
  {
   "cell_type": "code",
   "execution_count": 12,
   "metadata": {},
   "outputs": [
    {
     "name": "stdout",
     "output_type": "stream",
     "text": [
      "tensor([239, 830, 784, 452])\n"
     ]
    }
   ],
   "source": [
    "TIMESTEP = 1000\n",
    "batch_size = 4\n",
    "t = torch.randint(0, TIMESTEP, (batch_size,)).long()    \n",
    "print(t)"
   ]
  },
  {
   "cell_type": "code",
   "execution_count": 13,
   "metadata": {},
   "outputs": [
    {
     "name": "stdout",
     "output_type": "stream",
     "text": [
      "torch.Size([128, 20])\n",
      "tensor([[-0.1440, -1.3995,  0.3327,  ...,  0.1571, -0.8933, -2.4459],\n",
      "        [-0.7471,  0.1377,  1.1579,  ..., -1.2415, -0.3073, -0.8189],\n",
      "        [-0.7600, -0.1637, -1.9274,  ...,  0.9221, -1.6212,  0.3363],\n",
      "        ...,\n",
      "        [ 0.1674, -0.6929,  1.5903,  ...,  0.1568, -0.0826,  1.0039],\n",
      "        [-0.9607,  0.7214, -1.1941,  ..., -0.6733, -0.3382,  1.5147],\n",
      "        [ 1.8804, -1.8156, -1.1162,  ...,  0.8634,  0.4051, -0.7382]])\n",
      "tensor([[-0.1440, -1.3995,  0.3327,  ...,  0.1571, -0.8933, -2.4459],\n",
      "        [-0.7471,  0.1377,  1.1579,  ..., -1.2415, -0.3073, -0.8189],\n",
      "        [-0.7600, -0.1637, -1.9274,  ...,  0.9221, -1.6212,  0.3363],\n",
      "        ...,\n",
      "        [ 0.1674, -0.6929,  1.5903,  ...,  0.1568, -0.0826,  1.0039],\n",
      "        [-0.9607,  0.7214, -1.1941,  ..., -0.6733, -0.3382,  1.5147],\n",
      "        [ 1.8804, -1.8156, -1.1162,  ...,  0.8634,  0.4051, -0.7382]])\n"
     ]
    }
   ],
   "source": [
    "m = nn.Identity(54, unused_argument1=0.1, unused_argument2=False)\n",
    "input = torch.randn(128, 20)\n",
    "output = m(input)\n",
    "\n",
    "print(output.size())\n",
    "print(input)\n",
    "print(output)\n"
   ]
  }
 ],
 "metadata": {
  "kernelspec": {
   "display_name": "base",
   "language": "python",
   "name": "python3"
  },
  "language_info": {
   "codemirror_mode": {
    "name": "ipython",
    "version": 3
   },
   "file_extension": ".py",
   "mimetype": "text/x-python",
   "name": "python",
   "nbconvert_exporter": "python",
   "pygments_lexer": "ipython3",
   "version": "3.9.12"
  }
 },
 "nbformat": 4,
 "nbformat_minor": 2
}
