{
 "cells": [
  {
   "cell_type": "code",
   "execution_count": 1,
   "metadata": {},
   "outputs": [
    {
     "name": "stderr",
     "output_type": "stream",
     "text": [
      "/opt/conda/lib/python3.9/site-packages/tqdm/auto.py:22: TqdmWarning: IProgress not found. Please update jupyter and ipywidgets. See https://ipywidgets.readthedocs.io/en/stable/user_install.html\n",
      "  from .autonotebook import tqdm as notebook_tqdm\n"
     ]
    },
    {
     "ename": "ModuleNotFoundError",
     "evalue": "No module named 'Model_Implementation'",
     "output_type": "error",
     "traceback": [
      "\u001b[0;31m---------------------------------------------------------------------------\u001b[0m",
      "\u001b[0;31mModuleNotFoundError\u001b[0m                       Traceback (most recent call last)",
      "\u001b[1;32m/workspace/Model_Implementation/GenerativeModel/ddpm/simple_diffusion/simple_diffusion.ipynb Cell 1\u001b[0m in \u001b[0;36m<cell line: 4>\u001b[0;34m()\u001b[0m\n\u001b[1;32m      <a href='vscode-notebook-cell://attached-container%2B7b22636f6e7461696e65724e616d65223a222f646966665f6a73222c2273657474696e6773223a7b22686f7374223a227373683a2f2f6a756e7375403135352e3233302e32392e37333a3233393633227d7d/workspace/Model_Implementation/GenerativeModel/ddpm/simple_diffusion/simple_diffusion.ipynb#W0sdnNjb2RlLXJlbW90ZQ%3D%3D?line=1'>2</a>\u001b[0m \u001b[39mimport\u001b[39;00m \u001b[39mtorchvision\u001b[39;00m\n\u001b[1;32m      <a href='vscode-notebook-cell://attached-container%2B7b22636f6e7461696e65724e616d65223a222f646966665f6a73222c2273657474696e6773223a7b22686f7374223a227373683a2f2f6a756e7375403135352e3233302e32392e37333a3233393633227d7d/workspace/Model_Implementation/GenerativeModel/ddpm/simple_diffusion/simple_diffusion.ipynb#W0sdnNjb2RlLXJlbW90ZQ%3D%3D?line=2'>3</a>\u001b[0m \u001b[39mimport\u001b[39;00m \u001b[39mmatplotlib\u001b[39;00m\u001b[39m.\u001b[39;00m\u001b[39mpyplot\u001b[39;00m \u001b[39mas\u001b[39;00m \u001b[39mplt\u001b[39;00m\n\u001b[0;32m----> <a href='vscode-notebook-cell://attached-container%2B7b22636f6e7461696e65724e616d65223a222f646966665f6a73222c2273657474696e6773223a7b22686f7374223a227373683a2f2f6a756e7375403135352e3233302e32392e37333a3233393633227d7d/workspace/Model_Implementation/GenerativeModel/ddpm/simple_diffusion/simple_diffusion.ipynb#W0sdnNjb2RlLXJlbW90ZQ%3D%3D?line=3'>4</a>\u001b[0m \u001b[39mfrom\u001b[39;00m \u001b[39mModel_Implementation\u001b[39;00m\u001b[39m.\u001b[39;00m\u001b[39mGenerativeModel\u001b[39;00m\u001b[39m.\u001b[39;00m\u001b[39mddpm\u001b[39;00m\u001b[39m.\u001b[39;00m\u001b[39mrsna_breast_cancer\u001b[39;00m \u001b[39mimport\u001b[39;00m RSNADataset\n",
      "\u001b[0;31mModuleNotFoundError\u001b[0m: No module named 'Model_Implementation'"
     ]
    }
   ],
   "source": [
    "import torch\n",
    "import torchvision\n",
    "import matplotlib.pyplot as plt\n",
    "from Model_Implementation.GenerativeModel.ddpm.rsna_breast_cancer import RSNADataset\n",
    "\n",
    "\n",
    "# def show_images(datset, num_samples=20, cols=4):\n",
    "#     \"\"\" Plots some samples from the dataset \"\"\"\n",
    "#     plt.figure(figsize=(15,15)) \n",
    "#     for i, img in enumerate(data):\n",
    "#         if i == num_samples:\n",
    "#             break\n",
    "#         plt.subplot(int(num_samples/cols) + 1, cols, i + 1)\n",
    "#         plt.imshow(img[0])\n",
    "\n",
    "# data = torchvision.datasets.StanfordCars(root=\".\", download=True)\n",
    "# show_images(data)"
   ]
  }
 ],
 "metadata": {
  "kernelspec": {
   "display_name": "base",
   "language": "python",
   "name": "python3"
  },
  "language_info": {
   "codemirror_mode": {
    "name": "ipython",
    "version": 3
   },
   "file_extension": ".py",
   "mimetype": "text/x-python",
   "name": "python",
   "nbconvert_exporter": "python",
   "pygments_lexer": "ipython3",
   "version": "3.9.12"
  },
  "orig_nbformat": 4
 },
 "nbformat": 4,
 "nbformat_minor": 2
}
