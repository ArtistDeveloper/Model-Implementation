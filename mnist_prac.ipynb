{
 "cells": [
  {
   "cell_type": "code",
   "execution_count": 6,
   "metadata": {},
   "outputs": [],
   "source": [
    "import torch    \n",
    "from torchvision import transforms, datasets # transform모듈로 이미지를 불러오며 동시에 전처리 수행가능."
   ]
  },
  {
   "cell_type": "code",
   "execution_count": 4,
   "metadata": {},
   "outputs": [
    {
     "name": "stdout",
     "output_type": "stream",
     "text": [
      "Using pytorch version: 2.0.0+cu117 Device: cuda\n"
     ]
    }
   ],
   "source": [
    "# GPU Settings\n",
    "if torch.cuda.is_available():\n",
    "    DEVICE = torch.device('cuda');\n",
    "\n",
    "else:\n",
    "    DEVICE = torch.device('cpu')\n",
    "\n",
    "print('Using pytorch version:', torch.__version__, 'Device:', DEVICE)"
   ]
  },
  {
   "cell_type": "code",
   "execution_count": 5,
   "metadata": {},
   "outputs": [
    {
     "data": {
      "text/plain": [
       "<module 'torchvision.datasets' from 'c:\\\\Users\\\\JunsuPark\\\\anaconda3\\\\envs\\\\cnn_prac\\\\Lib\\\\site-packages\\\\torchvision\\\\datasets\\\\__init__.py'>"
      ]
     },
     "execution_count": 5,
     "metadata": {},
     "output_type": "execute_result"
    }
   ],
   "source": [
    "mnist_transform = transforms.Compose([\n",
    "    transform.ToTensor(), \n",
    "    transforms.Normalize((0.5,), (1.0,)) # mean=0.5, std=1.0, 채널별로 값을 할당해준다.\n",
    "    ]) \n",
    "\n",
    "\n",
    "# MNIST 다운로드\n",
    "download_root = './MINIST_dataset'\n",
    "\n",
    "train_dataset = datasets.MNIST(download_root, transform = mnist_transform, train=True, download=True)\n",
    "valid_dataset = MNIST(download_root, transform=mnist_transform, train=False, download=True)\n",
    "test_dataset = MNIST(download_root, transform=mnist_transform, train=False, download=True)"
   ]
  },
  {
   "cell_type": "code",
   "execution_count": null,
   "metadata": {},
   "outputs": [],
   "source": []
  },
  {
   "cell_type": "code",
   "execution_count": null,
   "metadata": {},
   "outputs": [],
   "source": []
  },
  {
   "cell_type": "code",
   "execution_count": null,
   "metadata": {},
   "outputs": [],
   "source": []
  },
  {
   "cell_type": "code",
   "execution_count": null,
   "metadata": {},
   "outputs": [],
   "source": []
  }
 ],
 "metadata": {
  "kernelspec": {
   "display_name": "base",
   "language": "python",
   "name": "python3"
  },
  "language_info": {
   "codemirror_mode": {
    "name": "ipython",
    "version": 3
   },
   "file_extension": ".py",
   "mimetype": "text/x-python",
   "name": "python",
   "nbconvert_exporter": "python",
   "pygments_lexer": "ipython3",
   "version": "3.11.2"
  },
  "orig_nbformat": 4,
  "vscode": {
   "interpreter": {
    "hash": "ae02627da435abb9d548fb221a63a133b7ef675ef709e7953d2a2c632a87ef6f"
   }
  }
 },
 "nbformat": 4,
 "nbformat_minor": 2
}
